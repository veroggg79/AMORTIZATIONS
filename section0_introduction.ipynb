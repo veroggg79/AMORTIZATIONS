{
  "nbformat": 4,
  "nbformat_minor": 0,
  "metadata": {
    "colab": {
      "provenance": [],
      "include_colab_link": true
    },
    "kernelspec": {
      "name": "python3",
      "display_name": "Python 3"
    },
    "language_info": {
      "name": "python"
    }
  },
  "cells": [
    {
      "cell_type": "markdown",
      "metadata": {
        "id": "view-in-github",
        "colab_type": "text"
      },
      "source": [
        "<a href=\"https://colab.research.google.com/github/veroggg79/AMORTIZATIONS/blob/main/section0_introduction.ipynb\" target=\"_parent\"><img src=\"https://colab.research.google.com/assets/colab-badge.svg\" alt=\"Open In Colab\"/></a>"
      ]
    },
    {
      "cell_type": "markdown",
      "source": [
        "# Sección 0: Introducción"
      ],
      "metadata": {
        "id": "NAIm-SUN9RWD"
      }
    },
    {
      "cell_type": "markdown",
      "source": [
        "Colab es un servicio de Jupyter Notebook alojado en la nube de Google que ofrece recursos gratuitos para desarrollar fragmentos de código en Python, ejecutables mientras se escribe. Viene integrado con Gemini AI, el modelo LLM insignia de google."
      ],
      "metadata": {
        "id": "LYD8ARrQ9XSK"
      }
    },
    {
      "cell_type": "markdown",
      "source": [
        "# 0.1. Básicos de Python"
      ],
      "metadata": {
        "id": "Wcr9SG6vHdl6"
      }
    },
    {
      "cell_type": "markdown",
      "source": [
        "# 0.1.1.Colab puede funcionar como una calculadora"
      ],
      "metadata": {
        "id": "NA5IF53Pgusd"
      }
    },
    {
      "cell_type": "code",
      "execution_count": null,
      "metadata": {
        "id": "itsKk8JnAqOJ",
        "colab": {
          "base_uri": "https://localhost:8080/"
        },
        "outputId": "0693f592-33d3-48bb-ae33-be58f979e419"
      },
      "outputs": [
        {
          "output_type": "execute_result",
          "data": {
            "text/plain": [
              "5"
            ]
          },
          "metadata": {},
          "execution_count": 1
        }
      ],
      "source": [
        "3 + 2"
      ]
    },
    {
      "cell_type": "code",
      "source": [
        "3 - 2"
      ],
      "metadata": {
        "id": "SM8dz0SVFZyl"
      },
      "execution_count": null,
      "outputs": []
    },
    {
      "cell_type": "code",
      "source": [
        "a = 3\n",
        "b = 4\n",
        "a * b"
      ],
      "metadata": {
        "colab": {
          "base_uri": "https://localhost:8080/"
        },
        "id": "DAk1tmhcFaz7",
        "outputId": "0b6758e5-880e-48ff-8d15-9f4a9ba95f95"
      },
      "execution_count": null,
      "outputs": [
        {
          "output_type": "execute_result",
          "data": {
            "text/plain": [
              "12"
            ]
          },
          "metadata": {},
          "execution_count": 4
        }
      ]
    },
    {
      "cell_type": "code",
      "source": [
        "print(a)"
      ],
      "metadata": {
        "colab": {
          "base_uri": "https://localhost:8080/"
        },
        "id": "KCRmjEtFFq6-",
        "outputId": "24249470-9396-4e21-bd31-ace507a67691"
      },
      "execution_count": null,
      "outputs": [
        {
          "output_type": "stream",
          "name": "stdout",
          "text": [
            "3\n"
          ]
        }
      ]
    },
    {
      "cell_type": "markdown",
      "source": [
        "# 0.1.2. ¿Cómo se almacenan las variables en Colab?\n",
        "Se almacenan en memoria cuando la celda es ejecutada, no importa el orden de las celdas, el último valor que se guarda siempre es el de la última celda ejecutada"
      ],
      "metadata": {
        "id": "E75rmM2tg1M_"
      }
    },
    {
      "cell_type": "code",
      "source": [
        "a"
      ],
      "metadata": {
        "id": "Ru8BLBgOA78Y",
        "colab": {
          "base_uri": "https://localhost:8080/"
        },
        "outputId": "1c7e716f-d692-45a7-eba6-f97e9d83b784"
      },
      "execution_count": null,
      "outputs": [
        {
          "output_type": "execute_result",
          "data": {
            "text/plain": [
              "50"
            ]
          },
          "metadata": {},
          "execution_count": 13
        }
      ]
    },
    {
      "cell_type": "code",
      "source": [
        "a = 50\n",
        "a"
      ],
      "metadata": {
        "colab": {
          "base_uri": "https://localhost:8080/"
        },
        "id": "b8r9m9LHF5yi",
        "outputId": "404dea2e-bdff-4e45-892e-84e72966ea16"
      },
      "execution_count": null,
      "outputs": [
        {
          "output_type": "execute_result",
          "data": {
            "text/plain": [
              "50"
            ]
          },
          "metadata": {},
          "execution_count": 11
        }
      ]
    },
    {
      "cell_type": "code",
      "source": [
        "a = 30"
      ],
      "metadata": {
        "id": "Kc4od-SxF_8o"
      },
      "execution_count": null,
      "outputs": []
    },
    {
      "cell_type": "code",
      "source": [
        "print(\"este es el valor actual de a:\", a)"
      ],
      "metadata": {
        "colab": {
          "base_uri": "https://localhost:8080/"
        },
        "id": "jeRz9jmgGClk",
        "outputId": "bc2b3263-de5c-433e-95c1-0eefa45bfab0"
      },
      "execution_count": null,
      "outputs": [
        {
          "output_type": "stream",
          "name": "stdout",
          "text": [
            "este es el valor actual de a: 50\n"
          ]
        }
      ]
    },
    {
      "cell_type": "markdown",
      "source": [
        "# 0.1.3. Condicionales y ciclos"
      ],
      "metadata": {
        "id": "-NBuIYsH1lsr"
      }
    },
    {
      "cell_type": "code",
      "source": [
        "age = 69\n",
        "\n",
        "if age < 18:\n",
        "  print(\"Eres menor de edad\")\n",
        "elif age >= 18 and age < 60:\n",
        "  print(\"Eres mayor de edad\")\n",
        "else:\n",
        "  print(\"Eres adulto mayor\")"
      ],
      "metadata": {
        "colab": {
          "base_uri": "https://localhost:8080/"
        },
        "id": "Uc6qyxBB1o1w",
        "outputId": "2d0e715b-f327-4a0a-df4d-c067e2848b16"
      },
      "execution_count": null,
      "outputs": [
        {
          "output_type": "stream",
          "name": "stdout",
          "text": [
            "Eres adulto mayor\n"
          ]
        }
      ]
    },
    {
      "cell_type": "code",
      "source": [
        "tasks = [\"clean\", \"laundry\", \"cook\", \"go to the gym\", \"sleep\"]\n",
        "\n",
        "# while, for\n",
        "\n",
        "index = 0\n",
        "while index < len(tasks):\n",
        "  task = tasks[index]\n",
        "  print(f\"task at position {index} = {task}\") # formatting strings\n",
        "  index = index + 1\n",
        "\n",
        "# for with range\n",
        "for index in range(len(tasks)):\n",
        "  task = tasks[index]\n",
        "  print(f\"task at position {index} = {task}\") # formatting strings\n",
        "\n",
        "for task in tasks:\n",
        "  print(f\"task at position {index} = {task}\") # formatting strings\n"
      ],
      "metadata": {
        "colab": {
          "base_uri": "https://localhost:8080/"
        },
        "id": "HmKAxpjEKI_2",
        "outputId": "68af656d-7073-4adc-93ea-b257883949c8"
      },
      "execution_count": null,
      "outputs": [
        {
          "output_type": "stream",
          "name": "stdout",
          "text": [
            "task at position 0 = clean\n",
            "task at position 1 = laundry\n",
            "task at position 2 = cook\n",
            "task at position 3 = go to the gym\n",
            "task at position 4 = sleep\n",
            "task at position 0 = clean\n",
            "task at position 1 = laundry\n",
            "task at position 2 = cook\n",
            "task at position 3 = go to the gym\n",
            "task at position 4 = sleep\n",
            "task at position 4 = clean\n",
            "task at position 4 = laundry\n",
            "task at position 4 = cook\n",
            "task at position 4 = go to the gym\n",
            "task at position 4 = sleep\n"
          ]
        }
      ]
    },
    {
      "cell_type": "markdown",
      "source": [
        "# 0.1.4. Funciones y tipos de **parámetros**"
      ],
      "metadata": {
        "id": "Rh-zVzW50ghU"
      }
    },
    {
      "cell_type": "markdown",
      "source": [
        "Argumentos posicionales: van de primero y el orden de los argumentos importa:"
      ],
      "metadata": {
        "id": "8uWRBlwZhHqR"
      }
    },
    {
      "cell_type": "code",
      "source": [
        "def sum_numbers(a, b):\n",
        "  return a + b\n",
        "\n",
        "print(sum_numbers(3, 5))"
      ],
      "metadata": {
        "id": "Tg0QySQJhSDE",
        "colab": {
          "base_uri": "https://localhost:8080/"
        },
        "outputId": "51bd96d4-2344-4b68-cb62-25ebb7148e87"
      },
      "execution_count": null,
      "outputs": [
        {
          "output_type": "stream",
          "name": "stdout",
          "text": [
            "0.6\n"
          ]
        }
      ]
    },
    {
      "cell_type": "code",
      "source": [
        "print(sum_numbers(a=3, b=5))\n",
        "print(sum_numbers(b=5, a=3))"
      ],
      "metadata": {
        "colab": {
          "base_uri": "https://localhost:8080/"
        },
        "id": "fHD2Lmr6UfEr",
        "outputId": "35d28bed-488e-40e5-dbbf-55943d434542"
      },
      "execution_count": null,
      "outputs": [
        {
          "output_type": "stream",
          "name": "stdout",
          "text": [
            "0.6\n",
            "0.6\n"
          ]
        }
      ]
    },
    {
      "cell_type": "markdown",
      "source": [
        "Argumentos nombrados: van después de los argumentos posicionales y su nombre no importa, pues van identificados con un nombre:"
      ],
      "metadata": {
        "id": "fXE8stN4hb4F"
      }
    },
    {
      "cell_type": "code",
      "source": [
        "sum_numbers(3, b=5)"
      ],
      "metadata": {
        "id": "EUon6CcOhis6",
        "colab": {
          "base_uri": "https://localhost:8080/"
        },
        "outputId": "b6652371-84d2-4768-a891-838dc11c86d7"
      },
      "execution_count": null,
      "outputs": [
        {
          "output_type": "execute_result",
          "data": {
            "text/plain": [
              "0.6"
            ]
          },
          "metadata": {},
          "execution_count": 38
        }
      ]
    },
    {
      "cell_type": "markdown",
      "source": [
        "Podemos también mezclar ambos:"
      ],
      "metadata": {
        "id": "U6Ia1TYUiR64"
      }
    },
    {
      "cell_type": "code",
      "source": [],
      "metadata": {
        "id": "EX9Uxz7biTmB"
      },
      "execution_count": null,
      "outputs": []
    },
    {
      "cell_type": "markdown",
      "source": [
        "Desglosando los argumentos posicionales y nombrados"
      ],
      "metadata": {
        "id": "Hd1azF09ioEn"
      }
    },
    {
      "cell_type": "code",
      "source": [
        "def func(*positional, **named):\n",
        "  print(\"positional arguments\", positional)\n",
        "  print(\"named arguments\", named)\n",
        "\n",
        "func(2, 4, b=3, c=4)"
      ],
      "metadata": {
        "id": "OzO01cwNinrm",
        "colab": {
          "base_uri": "https://localhost:8080/"
        },
        "outputId": "2354815c-6298-48f1-e9b7-257f3c61fe4f"
      },
      "execution_count": null,
      "outputs": [
        {
          "output_type": "stream",
          "name": "stdout",
          "text": [
            "positional arguments (2, 4)\n",
            "named arguments {'b': 3, 'c': 4}\n"
          ]
        }
      ]
    },
    {
      "cell_type": "markdown",
      "source": [
        "# 0.2. Tipando Python con tipos nativos y la librería typing"
      ],
      "metadata": {
        "id": "PzotPfIbkzWL"
      }
    },
    {
      "cell_type": "markdown",
      "source": [
        "Python no es un lenguaje tipado, pero para mejorar la calidad de nuestro código y evitar posibles errores al momento de desarrollar, es útil tipar las variables. Esto puede hacerse tanto con tipos nativos de Python como con la librería typing"
      ],
      "metadata": {
        "id": "tVjtt9fhlMRk"
      }
    },
    {
      "cell_type": "code",
      "source": [
        "#typing with the native Python datatypes dict, list, str, int, float, bool\n",
        "\n",
        "def sum_numbers(a: int, b: int) -> int:\n",
        "  return a + b\n",
        "\n",
        "def greeting_message(name: str) -> str:\n",
        "  return \"Hello, \" + name\n",
        "\n",
        "def create_person(name: str, age: int) -> dict[str, int | str]:\n",
        "  return {\n",
        "    \"name\": name,\n",
        "    \"age\": age\n",
        "  }\n",
        "\n",
        "def multiply_array(array: list[int], multiplier: int) -> list[int]:\n",
        "  return [x * multiplier for x in array] # list comprehension\n",
        "\n",
        "print(sum_numbers(3, 5))\n",
        "print(greeting_message(\"John\"))\n",
        "print(create_person(\"John\", 30))\n",
        "print(multiply_array([1, 2, 3], 2))"
      ],
      "metadata": {
        "id": "6AGjxw71lLAT",
        "colab": {
          "base_uri": "https://localhost:8080/"
        },
        "outputId": "30001fb0-fcc0-42d6-9220-f3157a902ff8"
      },
      "execution_count": null,
      "outputs": [
        {
          "output_type": "stream",
          "name": "stdout",
          "text": [
            "8\n",
            "Hello, John\n",
            "{'name': 'John', 'age': 30}\n",
            "[2, 4, 6]\n"
          ]
        }
      ]
    },
    {
      "cell_type": "code",
      "source": [
        "#typing with the typing library datatypes Dict, List, Union, str, int, float, bool\n",
        "from typing import Dict, List, Text, Union\n",
        "\n",
        "Number = Union[int, float]\n",
        "\n",
        "def sum_numbers(a: Number, b: Number) -> Number:\n",
        "  return a + b\n",
        "\n",
        "def greeting_message(name: Text) -> Text:\n",
        "  return \"Hello, \" + name\n",
        "\n",
        "def create_person(name: Text, age: Number) -> Dict[Text, Number | Text]:\n",
        "  return {\n",
        "    \"name\": name,\n",
        "    \"age\": age\n",
        "  }\n",
        "\n",
        "def multiply_array(array: List[Number], multiplier: Number) -> List[Number]:\n",
        "  return [x * multiplier for x in array] # list comprehension\n",
        "\n",
        "print(sum_numbers(3, 5))\n",
        "print(sum_numbers(\"string\", \"string\")) # no asegura errores de ejecución o de desarrollo // linters\n",
        "print(greeting_message(\"John\"))\n",
        "print(create_person(\"John\", 30))\n",
        "print(multiply_array([1, 2, 3], 2))"
      ],
      "metadata": {
        "colab": {
          "base_uri": "https://localhost:8080/"
        },
        "id": "5a32T3NHaQ_2",
        "outputId": "6e85a1de-a9b1-43cf-dee5-b2bfb4cafaa0"
      },
      "execution_count": null,
      "outputs": [
        {
          "output_type": "stream",
          "name": "stdout",
          "text": [
            "8\n",
            "stringstring\n",
            "Hello, John\n",
            "{'name': 'John', 'age': 30}\n",
            "[2, 4, 6]\n"
          ]
        }
      ]
    },
    {
      "cell_type": "markdown",
      "source": [
        "# 0.3. Listas y Arreglos en Python:"
      ],
      "metadata": {
        "id": "Sd9NnyCJoUjM"
      }
    },
    {
      "cell_type": "markdown",
      "source": [
        "# 0.3.1. Listas nativas de Python"
      ],
      "metadata": {
        "id": "Ig2SQR2NovIQ"
      }
    },
    {
      "cell_type": "code",
      "source": [
        "tasks = [\"clean\", \"laundry\", \"cook\", \"clean\", 3, True]\n",
        "print(tasks)\n",
        "\n",
        "tasks.append(\"go to the gym\") # al final de la lista\n",
        "print(\"tasks after adding a new element\", tasks)\n",
        "\n",
        "# remove by value\n",
        "tasks.remove(\"clean\")\n",
        "print(\"tasks after removing 'clean'\", tasks)\n",
        "\n",
        "# remove by position\n",
        "tasks.pop()\n",
        "print(\"tasks after popping one element\", tasks)\n",
        "\n",
        "# slicing\n",
        "print(\"tasks after slicing the list\", tasks[1:3])\n",
        "\n",
        "# mean value\n",
        "numbers = [1, 2, 3, 4, 5]\n",
        "mean_value = sum(numbers) / len(numbers)\n",
        "print(\"Mean value of the list\", mean_value)"
      ],
      "metadata": {
        "id": "KIb4ydVNozf9",
        "colab": {
          "base_uri": "https://localhost:8080/"
        },
        "outputId": "c880c3c1-8054-4f5d-9348-d0d685fefb7b"
      },
      "execution_count": null,
      "outputs": [
        {
          "output_type": "stream",
          "name": "stdout",
          "text": [
            "['clean', 'laundry', 'cook', 'clean', 3, True]\n",
            "tasks after adding a new element ['clean', 'laundry', 'cook', 'clean', 3, True, 'go to the gym']\n",
            "tasks after removing 'clean' ['laundry', 'cook', 'clean', 3, True, 'go to the gym']\n",
            "tasks after popping one element ['laundry', 'cook', 'clean', 3, True]\n",
            "tasks after slicing the list ['cook', 'clean']\n",
            "Mean value of the list 3.0\n"
          ]
        }
      ]
    },
    {
      "cell_type": "markdown",
      "source": [
        "# 0.3.2. Arreglos de NumPy"
      ],
      "metadata": {
        "id": "q9KlOtKwqn6e"
      }
    },
    {
      "cell_type": "code",
      "source": [
        "import numpy as np\n",
        "\n",
        "tasks = np.array([\"clean\", \"laundry\", \"cook\", \"clean\", 3, True])\n",
        "\n",
        "# add new elements\n",
        "tasks = np.append(tasks, \"go to the gym\")\n",
        "print(\"tasks after adding a new element\", tasks)\n",
        "\n",
        "# remove by value\n",
        "tasks = np.delete(tasks, np.where(tasks == \"clean\"))\n",
        "print(\"tasks after deleting 'clean'\")\n",
        "\n",
        "# remove by position\n",
        "tasks = np.delete(tasks, -1)\n",
        "print(\"tasks after popping one element\", tasks)\n",
        "\n",
        "# slicing\n",
        "print(\"tasks after slicing the list\", tasks[1:3])\n",
        "\n",
        "# mean value\n",
        "numbers = np.array([1, 2, 3, 4, 5])\n",
        "mean_value = np.mean(numbers)\n",
        "print(\"Mean value of the list\", mean_value)"
      ],
      "metadata": {
        "id": "TO-wEbi8qxGI",
        "colab": {
          "base_uri": "https://localhost:8080/"
        },
        "outputId": "d78677f2-36e5-4693-fab8-8c23ef44a8ad"
      },
      "execution_count": null,
      "outputs": [
        {
          "output_type": "stream",
          "name": "stdout",
          "text": [
            "tasks after adding a new element ['clean' 'laundry' 'cook' 'clean' '3' 'True' 'go to the gym']\n",
            "tasks after deleting 'clean'\n",
            "tasks after popping one element ['laundry' 'cook' '3' 'True']\n",
            "tasks after slicing the list ['cook' '3']\n",
            "Mean value of the list 3.0\n"
          ]
        }
      ]
    },
    {
      "cell_type": "markdown",
      "source": [
        "# 0.3. Estadística y gráficas con Python"
      ],
      "metadata": {
        "id": "mFnWtoiqBFkq"
      }
    },
    {
      "cell_type": "markdown",
      "source": [
        "# 0.3.1 Graficando con Matplotlib\n"
      ],
      "metadata": {
        "id": "BCVk66YdPEd7"
      }
    },
    {
      "cell_type": "code",
      "source": [
        "import matplotlib.pyplot as plt"
      ],
      "metadata": {
        "id": "x4hQQiqrCT2j"
      },
      "execution_count": null,
      "outputs": []
    },
    {
      "cell_type": "markdown",
      "source": [
        "# 0.3.1.1. matplotlib.pyplot.plot:\n",
        "Recibe como parámetros principales, los datos del eje X, el eje Y y un string de formato (por defecto 'b-'). Cuando no se especifica sino uno de los ejes, matplotlib supondrá que estos son los datos del eje Y, los del eje X los tomará como un objeto range(len(data))"
      ],
      "metadata": {
        "id": "q57lfKmrPHLQ"
      }
    },
    {
      "cell_type": "code",
      "source": [
        "data = [3, 5, 6, 9, 7, 11, 2]\n",
        "\n",
        "plt.figure(1)\n",
        "plt.plot(data, \"g-\")\n",
        "\n",
        "# Equivalent to:\n",
        "plt.figure(2)\n",
        "x_values = range(len(data))\n",
        "plt.plot(x_values, data, \"b-\")\n",
        "\n",
        "# Example: Un vendedor que tiene las siguientes ventas por año:\n",
        "\n",
        "years = [2010, 2011, 2012, 2013]\n",
        "sales = [700, 900, 800, 1000]\n",
        "\n",
        "plt.figure(3)\n",
        "plt.plot(years, sales, \"r-\")\n",
        "plt.xticks(years)\n",
        "plt.show()"
      ],
      "metadata": {
        "id": "drd4b71wPMSV",
        "colab": {
          "base_uri": "https://localhost:8080/",
          "height": 1000
        },
        "outputId": "6f1a20e2-f42c-4c23-9208-ac75e2cbabff"
      },
      "execution_count": null,
      "outputs": [
        {
          "output_type": "display_data",
          "data": {
            "text/plain": [
              "<Figure size 640x480 with 1 Axes>"
            ],
            "image/png": "[encoded data removed]"
          },
          "metadata": {}
        },
        {
          "output_type": "display_data",
          "data": {
            "text/plain": [
              "<Figure size 640x480 with 1 Axes>"
            ],
            "image/png": "[encoded data removed]"
          },
          "metadata": {}
        },
        {
          "output_type": "display_data",
          "data": {
            "text/plain": [
              "<Figure size 640x480 with 1 Axes>"
            ],
            "image/png": "[encoded data removed]"
          },
          "metadata": {}
        }
      ]
    },
    {
      "cell_type": "code",
      "source": [
        "# Graficando funciones\n",
        "\n",
        "import numpy as np\n",
        "\n",
        "x = np.linspace(-100, 100, 100)\n",
        "type(x) # ndarray\n",
        "\n",
        "y = x / 2 - 2\n",
        "z = np.sin(x)\n",
        "plt.plot(x, y, \"g-\")\n",
        "plt.plot(x, z, \"r-\")\n",
        "plt.xticks(range(-100, 101, 20))\n",
        "plt.show()"
      ],
      "metadata": {
        "colab": {
          "base_uri": "https://localhost:8080/",
          "height": 430
        },
        "id": "IW_rJwSkwwhR",
        "outputId": "6e72b87e-2582-4e4a-e923-866a515162cf"
      },
      "execution_count": null,
      "outputs": [
        {
          "output_type": "display_data",
          "data": {
            "text/plain": [
              "<Figure size 640x480 with 1 Axes>"
            ],
            "image/png": "[encoded data removed]"
          },
          "metadata": {}
        }
      ]
    },
    {
      "cell_type": "markdown",
      "source": [
        "# 0.3.1.2. matplotlib.pyplot.scatter:"
      ],
      "metadata": {
        "id": "wuqvKld-PMvF"
      }
    },
    {
      "cell_type": "code",
      "source": [
        "print(x_values, data)\n",
        "plt.scatter(x_values, data)\n",
        "plt.show()"
      ],
      "metadata": {
        "id": "hBXAKaRxPU6U",
        "colab": {
          "base_uri": "https://localhost:8080/",
          "height": 448
        },
        "outputId": "a7f58dd0-6cca-493d-ad81-4e72cfa720e0"
      },
      "execution_count": null,
      "outputs": [
        {
          "output_type": "stream",
          "name": "stdout",
          "text": [
            "range(0, 7) [3, 5, 6, 9, 7, 11, 2]\n"
          ]
        },
        {
          "output_type": "display_data",
          "data": {
            "text/plain": [
              "<Figure size 640x480 with 1 Axes>"
            ],
            "image/png": "[encoded data removed]"
          },
          "metadata": {}
        }
      ]
    },
    {
      "cell_type": "markdown",
      "source": [
        "# Recordemos que, en ambas funciones, X y Y deben contener el mismo número de datos"
      ],
      "metadata": {
        "id": "ytNrlpzlPVVk"
      }
    },
    {
      "cell_type": "code",
      "source": [
        "new_y = [1, 2]\n",
        "plt.scatter(x_values, new_y)\n",
        "plt.show()"
      ],
      "metadata": {
        "id": "G1fCH-e8PhEh",
        "colab": {
          "base_uri": "https://localhost:8080/",
          "height": 765
        },
        "outputId": "a2b1bc40-a70c-4370-aecd-e08334c7135f"
      },
      "execution_count": null,
      "outputs": [
        {
          "output_type": "error",
          "ename": "ValueError",
          "evalue": "x and y must be the same size",
          "traceback": [
            "\u001b[0;31m---------------------------------------------------------------------------\u001b[0m",
            "\u001b[0;31mValueError\u001b[0m                                Traceback (most recent call last)",
            "\u001b[0;32m<ipython-input-23-e57c3b6f377d>\u001b[0m in \u001b[0;36m<cell line: 2>\u001b[0;34m()\u001b[0m\n\u001b[1;32m      1\u001b[0m \u001b[0mnew_y\u001b[0m \u001b[0;34m=\u001b[0m \u001b[0;34m[\u001b[0m\u001b[0;36m1\u001b[0m\u001b[0;34m,\u001b[0m \u001b[0;36m2\u001b[0m\u001b[0;34m]\u001b[0m\u001b[0;34m\u001b[0m\u001b[0;34m\u001b[0m\u001b[0m\n\u001b[0;32m----> 2\u001b[0;31m \u001b[0mplt\u001b[0m\u001b[0;34m.\u001b[0m\u001b[0mscatter\u001b[0m\u001b[0;34m(\u001b[0m\u001b[0mx_values\u001b[0m\u001b[0;34m,\u001b[0m \u001b[0mnew_y\u001b[0m\u001b[0;34m)\u001b[0m\u001b[0;34m\u001b[0m\u001b[0;34m\u001b[0m\u001b[0m\n\u001b[0m\u001b[1;32m      3\u001b[0m \u001b[0mplt\u001b[0m\u001b[0;34m.\u001b[0m\u001b[0mshow\u001b[0m\u001b[0;34m(\u001b[0m\u001b[0;34m)\u001b[0m\u001b[0;34m\u001b[0m\u001b[0;34m\u001b[0m\u001b[0m\n",
            "\u001b[0;32m/usr/local/lib/python3.10/dist-packages/matplotlib/pyplot.py\u001b[0m in \u001b[0;36mscatter\u001b[0;34m(x, y, s, c, marker, cmap, norm, vmin, vmax, alpha, linewidths, edgecolors, plotnonfinite, data, **kwargs)\u001b[0m\n\u001b[1;32m   2860\u001b[0m         \u001b[0mvmin\u001b[0m\u001b[0;34m=\u001b[0m\u001b[0;32mNone\u001b[0m\u001b[0;34m,\u001b[0m \u001b[0mvmax\u001b[0m\u001b[0;34m=\u001b[0m\u001b[0;32mNone\u001b[0m\u001b[0;34m,\u001b[0m \u001b[0malpha\u001b[0m\u001b[0;34m=\u001b[0m\u001b[0;32mNone\u001b[0m\u001b[0;34m,\u001b[0m \u001b[0mlinewidths\u001b[0m\u001b[0;34m=\u001b[0m\u001b[0;32mNone\u001b[0m\u001b[0;34m,\u001b[0m \u001b[0;34m*\u001b[0m\u001b[0;34m,\u001b[0m\u001b[0;34m\u001b[0m\u001b[0;34m\u001b[0m\u001b[0m\n\u001b[1;32m   2861\u001b[0m         edgecolors=None, plotnonfinite=False, data=None, **kwargs):\n\u001b[0;32m-> 2862\u001b[0;31m     __ret = gca().scatter(\n\u001b[0m\u001b[1;32m   2863\u001b[0m         \u001b[0mx\u001b[0m\u001b[0;34m,\u001b[0m \u001b[0my\u001b[0m\u001b[0;34m,\u001b[0m \u001b[0ms\u001b[0m\u001b[0;34m=\u001b[0m\u001b[0ms\u001b[0m\u001b[0;34m,\u001b[0m \u001b[0mc\u001b[0m\u001b[0;34m=\u001b[0m\u001b[0mc\u001b[0m\u001b[0;34m,\u001b[0m \u001b[0mmarker\u001b[0m\u001b[0;34m=\u001b[0m\u001b[0mmarker\u001b[0m\u001b[0;34m,\u001b[0m \u001b[0mcmap\u001b[0m\u001b[0;34m=\u001b[0m\u001b[0mcmap\u001b[0m\u001b[0;34m,\u001b[0m \u001b[0mnorm\u001b[0m\u001b[0;34m=\u001b[0m\u001b[0mnorm\u001b[0m\u001b[0;34m,\u001b[0m\u001b[0;34m\u001b[0m\u001b[0;34m\u001b[0m\u001b[0m\n\u001b[1;32m   2864\u001b[0m         \u001b[0mvmin\u001b[0m\u001b[0;34m=\u001b[0m\u001b[0mvmin\u001b[0m\u001b[0;34m,\u001b[0m \u001b[0mvmax\u001b[0m\u001b[0;34m=\u001b[0m\u001b[0mvmax\u001b[0m\u001b[0;34m,\u001b[0m \u001b[0malpha\u001b[0m\u001b[0;34m=\u001b[0m\u001b[0malpha\u001b[0m\u001b[0;34m,\u001b[0m \u001b[0mlinewidths\u001b[0m\u001b[0;34m=\u001b[0m\u001b[0mlinewidths\u001b[0m\u001b[0;34m,\u001b[0m\u001b[0;34m\u001b[0m\u001b[0;34m\u001b[0m\u001b[0m\n",
            "\u001b[0;32m/usr/local/lib/python3.10/dist-packages/matplotlib/__init__.py\u001b[0m in \u001b[0;36minner\u001b[0;34m(ax, data, *args, **kwargs)\u001b[0m\n\u001b[1;32m   1440\u001b[0m     \u001b[0;32mdef\u001b[0m \u001b[0minner\u001b[0m\u001b[0;34m(\u001b[0m\u001b[0max\u001b[0m\u001b[0;34m,\u001b[0m \u001b[0;34m*\u001b[0m\u001b[0margs\u001b[0m\u001b[0;34m,\u001b[0m \u001b[0mdata\u001b[0m\u001b[0;34m=\u001b[0m\u001b[0;32mNone\u001b[0m\u001b[0;34m,\u001b[0m \u001b[0;34m**\u001b[0m\u001b[0mkwargs\u001b[0m\u001b[0;34m)\u001b[0m\u001b[0;34m:\u001b[0m\u001b[0;34m\u001b[0m\u001b[0;34m\u001b[0m\u001b[0m\n\u001b[1;32m   1441\u001b[0m         \u001b[0;32mif\u001b[0m \u001b[0mdata\u001b[0m \u001b[0;32mis\u001b[0m \u001b[0;32mNone\u001b[0m\u001b[0;34m:\u001b[0m\u001b[0;34m\u001b[0m\u001b[0;34m\u001b[0m\u001b[0m\n\u001b[0;32m-> 1442\u001b[0;31m             \u001b[0;32mreturn\u001b[0m \u001b[0mfunc\u001b[0m\u001b[0;34m(\u001b[0m\u001b[0max\u001b[0m\u001b[0;34m,\u001b[0m \u001b[0;34m*\u001b[0m\u001b[0mmap\u001b[0m\u001b[0;34m(\u001b[0m\u001b[0msanitize_sequence\u001b[0m\u001b[0;34m,\u001b[0m \u001b[0margs\u001b[0m\u001b[0;34m)\u001b[0m\u001b[0;34m,\u001b[0m \u001b[0;34m**\u001b[0m\u001b[0mkwargs\u001b[0m\u001b[0;34m)\u001b[0m\u001b[0;34m\u001b[0m\u001b[0;34m\u001b[0m\u001b[0m\n\u001b[0m\u001b[1;32m   1443\u001b[0m \u001b[0;34m\u001b[0m\u001b[0m\n\u001b[1;32m   1444\u001b[0m         \u001b[0mbound\u001b[0m \u001b[0;34m=\u001b[0m \u001b[0mnew_sig\u001b[0m\u001b[0;34m.\u001b[0m\u001b[0mbind\u001b[0m\u001b[0;34m(\u001b[0m\u001b[0max\u001b[0m\u001b[0;34m,\u001b[0m \u001b[0;34m*\u001b[0m\u001b[0margs\u001b[0m\u001b[0;34m,\u001b[0m \u001b[0;34m**\u001b[0m\u001b[0mkwargs\u001b[0m\u001b[0;34m)\u001b[0m\u001b[0;34m\u001b[0m\u001b[0;34m\u001b[0m\u001b[0m\n",
            "\u001b[0;32m/usr/local/lib/python3.10/dist-packages/matplotlib/axes/_axes.py\u001b[0m in \u001b[0;36mscatter\u001b[0;34m(self, x, y, s, c, marker, cmap, norm, vmin, vmax, alpha, linewidths, edgecolors, plotnonfinite, **kwargs)\u001b[0m\n\u001b[1;32m   4582\u001b[0m         \u001b[0my\u001b[0m \u001b[0;34m=\u001b[0m \u001b[0mnp\u001b[0m\u001b[0;34m.\u001b[0m\u001b[0mma\u001b[0m\u001b[0;34m.\u001b[0m\u001b[0mravel\u001b[0m\u001b[0;34m(\u001b[0m\u001b[0my\u001b[0m\u001b[0;34m)\u001b[0m\u001b[0;34m\u001b[0m\u001b[0;34m\u001b[0m\u001b[0m\n\u001b[1;32m   4583\u001b[0m         \u001b[0;32mif\u001b[0m \u001b[0mx\u001b[0m\u001b[0;34m.\u001b[0m\u001b[0msize\u001b[0m \u001b[0;34m!=\u001b[0m \u001b[0my\u001b[0m\u001b[0;34m.\u001b[0m\u001b[0msize\u001b[0m\u001b[0;34m:\u001b[0m\u001b[0;34m\u001b[0m\u001b[0;34m\u001b[0m\u001b[0m\n\u001b[0;32m-> 4584\u001b[0;31m             \u001b[0;32mraise\u001b[0m \u001b[0mValueError\u001b[0m\u001b[0;34m(\u001b[0m\u001b[0;34m\"x and y must be the same size\"\u001b[0m\u001b[0;34m)\u001b[0m\u001b[0;34m\u001b[0m\u001b[0;34m\u001b[0m\u001b[0m\n\u001b[0m\u001b[1;32m   4585\u001b[0m \u001b[0;34m\u001b[0m\u001b[0m\n\u001b[1;32m   4586\u001b[0m         \u001b[0;32mif\u001b[0m \u001b[0ms\u001b[0m \u001b[0;32mis\u001b[0m \u001b[0;32mNone\u001b[0m\u001b[0;34m:\u001b[0m\u001b[0;34m\u001b[0m\u001b[0;34m\u001b[0m\u001b[0m\n",
            "\u001b[0;31mValueError\u001b[0m: x and y must be the same size"
          ]
        },
        {
          "output_type": "display_data",
          "data": {
            "text/plain": [
              "<Figure size 640x480 with 1 Axes>"
            ],
            "image/png": "[encoded data removed]"
          },
          "metadata": {}
        }
      ]
    },
    {
      "cell_type": "markdown",
      "source": [
        "# 0.3.2. Números aleatorios con la librería random y mathplotlib:\n"
      ],
      "metadata": {
        "id": "ccDGn9W5Phpl"
      }
    },
    {
      "cell_type": "code",
      "source": [
        "import random\n",
        "\n",
        "random.seed(None)\n",
        "\n",
        "# generates int between 2 and 5 (included)\n",
        "random_int: int = random.randint(2, 5)\n",
        "print(\"random_int:\", random_int)\n",
        "\n",
        "# generates float between 0 and 1 (excluded)\n",
        "random_float: float = random.random()\n",
        "print(\"random_float:\", random_float)\n",
        "\n",
        "# generates float between 2 and 5 (excluded)\n",
        "random_float2: float = random.uniform(2, 5)\n",
        "print(\"random_float2:\", random_float2)\n",
        "\n",
        "# generates float between 2 and 5 (excluded)\n",
        "random_float3: float = random.random() * (5 - 2) + 2\n",
        "print(\"random_float3\", random_float3)"
      ],
      "metadata": {
        "id": "ADTxzEsWPk8g",
        "colab": {
          "base_uri": "https://localhost:8080/"
        },
        "outputId": "2c382500-691d-4152-9d47-c3dfe9f3df5c"
      },
      "execution_count": null,
      "outputs": [
        {
          "output_type": "stream",
          "name": "stdout",
          "text": [
            "random_int: 2\n",
            "random_float: 0.8842085914212249\n",
            "random_float2: 2.4971537989416683\n",
            "random_float3 3.3933299525285023\n"
          ]
        }
      ]
    },
    {
      "cell_type": "markdown",
      "source": [
        "# 0.3.2.1. Ejercicio:\n",
        "Crear una función que genere una lista de n enteros aleatorios en el intervalo [a, b]"
      ],
      "metadata": {
        "id": "YaXZv1SViMNq"
      }
    },
    {
      "cell_type": "code",
      "source": [
        "def get_random_ints(size: int, low: int, high: int, seed: int = None) -> list[int]:\n",
        "  l: list[int] = []\n",
        "  random.seed(seed)\n",
        "  for i in range(size):\n",
        "    random_int = random.randint(low, high)\n",
        "    l.append(random_int)\n",
        "\n",
        "  return l\n",
        "  # using list comprehension\n",
        "  # return [random.randint(low, high) for i in range(size)]\n",
        "\n",
        "random_ints = get_random_ints(size=10, low=2, high=5, seed=98)\n",
        "print(random_ints)"
      ],
      "metadata": {
        "id": "577JzV4liR6y",
        "colab": {
          "base_uri": "https://localhost:8080/"
        },
        "outputId": "e5a7a182-005d-49c5-dcf5-702b31e9e6c7"
      },
      "execution_count": null,
      "outputs": [
        {
          "output_type": "stream",
          "name": "stdout",
          "text": [
            "[4, 2, 4, 5, 2, 5, 4, 2, 5, 3]\n"
          ]
        }
      ]
    },
    {
      "cell_type": "markdown",
      "source": [
        "# 0.3.2.2. Ejercicio:\n",
        "Crear una función que genere una lista de n números aleatorios con distribución normal, dada una media y una desviación estándar"
      ],
      "metadata": {
        "id": "v3bDRo2RiPAg"
      }
    },
    {
      "cell_type": "code",
      "source": [
        "# generate one random value with normal distribution with normalvariate\n",
        "random.seed(None)\n",
        "\n",
        "mu = 3\n",
        "sigma = 2\n",
        "random_normal_value = random.normalvariate(mu, sigma)\n",
        "print(\"random normal distributed value\", random_normal_value)\n",
        "\n",
        "def get_normal_values(mu: float = 0, sigma: float = 1, size: int = 10, seed: int = None) -> list[float]:\n",
        "  l: list[float] = []\n",
        "  random.seed(seed)\n",
        "  for i in range(size):\n",
        "    random_value = random.normalvariate(mu, sigma)\n",
        "    l.append(random_value)\n",
        "\n",
        "  return l\n",
        "  # return [random.normalvariate(mu, sigma) for i in range(size)]\n",
        "\n",
        "normal_values = get_normal_values(mu=3, sigma=2, size=10, seed=98)"
      ],
      "metadata": {
        "id": "iGNRGczgiSiq",
        "colab": {
          "base_uri": "https://localhost:8080/"
        },
        "outputId": "5d83fae8-3092-4457-d2fb-c215b417e157"
      },
      "execution_count": null,
      "outputs": [
        {
          "output_type": "stream",
          "name": "stdout",
          "text": [
            "random normal distributed value 0.4972414098525646\n"
          ]
        }
      ]
    },
    {
      "cell_type": "code",
      "source": [
        "import math\n",
        "\n",
        "random.seed(123)\n",
        "n = 10000\n",
        "bins = int(math.sqrt(n))\n",
        "\n",
        "# city 1\n",
        "c1_mean = 55\n",
        "c1_std_deviation = 5\n",
        "speed_c1 = get_normal_values(mu=c1_mean, sigma=c1_std_deviation, size=n) ## list[float]\n",
        "\n",
        "# min and max values\n",
        "min_value = min(speed_c1)\n",
        "max_value = max(speed_c1)\n",
        "print(min_value, max_value)\n",
        "\n",
        "# mean line\n",
        "min_freq = 0\n",
        "max_freq = 350\n",
        "plt.vlines(c1_mean, min_freq, max_freq, color=\"green\", linestyle=\"--\", label=\"City 1 Mean Speed\")\n",
        "\n",
        "# city 2\n",
        "c2_mean = 70\n",
        "c2_std_desviation = 7\n",
        "speed_c2 = get_normal_values(mu=c2_mean, sigma=c2_std_desviation, size=n)\n",
        "plt.vlines(c2_mean, min_freq, max_freq, color=\"blue\", linestyle=\"--\", label=\"City 2 Mean Speed\")\n",
        "\n",
        "# figure properties\n",
        "plt.figure(1, figsize=(10, 6))\n",
        "plt.style.use(\"seaborn-v0_8\")\n",
        "plt.hist(speed_c1, bins=bins, label=\"City 1 Speed Data\", alpha=0.5, color=\"green\")\n",
        "plt.hist(speed_c2, bins=bins, label=\"City 2 Speed Data\", alpha=0.5, color=\"blue\")\n",
        "plt.title(\"Car Speed Data for cities 1 and 2\")\n",
        "plt.xlabel(\"Measured Speed (km/h)\")\n",
        "plt.ylabel(\"Frequency\")\n",
        "plt.grid(False)\n",
        "plt.legend(loc=\"upper right\", fontsize=10)\n",
        "plt.show()"
      ],
      "metadata": {
        "colab": {
          "base_uri": "https://localhost:8080/",
          "height": 542
        },
        "id": "ueayQnccBX_K",
        "outputId": "0f02dad2-960e-4966-9331-723a002760e6"
      },
      "execution_count": null,
      "outputs": [
        {
          "output_type": "stream",
          "name": "stdout",
          "text": [
            "35.42056609937661 74.57932443049599\n"
          ]
        },
        {
          "output_type": "display_data",
          "data": {
            "text/plain": [
              "<Figure size 800x550 with 1 Axes>"
            ],
            "image/png": "[encoded data removed]"
          },
          "metadata": {}
        }
      ]
    },
    {
      "cell_type": "markdown",
      "source": [
        "# 0.3.3. Números aleatorios con la librería numpy y matplotlib"
      ],
      "metadata": {
        "id": "BXCfJmx8PlfO"
      }
    },
    {
      "cell_type": "code",
      "source": [
        "import numpy as np\n",
        "import matplotlib.pyplot as plt"
      ],
      "metadata": {
        "id": "iRq5J7cePpnO"
      },
      "execution_count": null,
      "outputs": []
    },
    {
      "cell_type": "markdown",
      "source": [
        "# 0.3.3.0. Subconjuntos de datos aleatorios - Datos de entrenamiento de un modelo de ML"
      ],
      "metadata": {
        "id": "x-OfdYOP3XZu"
      }
    },
    {
      "cell_type": "code",
      "source": [
        "data = np.arange(1, 101)\n",
        "print(data)\n",
        "\n",
        "np.random.shuffle(data)\n",
        "print(\"\\nrandomly sorted data:\", data)\n",
        "\n",
        "training_data = np.random.choice(data, size=20, replace=True)\n",
        "print(\"\\nTraining data:\", training_data)\n",
        "copied = np.copy(training_data)\n",
        "print(\"\\nCopied training data:\", copied)\n",
        "copied.sort()\n",
        "print(\"\\nSorted training data:\", copied)\n",
        "unique_values = np.unique(copied)\n",
        "print(\"\\nUnique values:\", unique_values)\n",
        "print(len(unique_values))"
      ],
      "metadata": {
        "id": "FnN_1VoI3YAH",
        "colab": {
          "base_uri": "https://localhost:8080/"
        },
        "outputId": "9880919b-d035-4f6a-833d-964a0b6cd1b3"
      },
      "execution_count": null,
      "outputs": [
        {
          "output_type": "stream",
          "name": "stdout",
          "text": [
            "[  1   2   3   4   5   6   7   8   9  10  11  12  13  14  15  16  17  18\n",
            "  19  20  21  22  23  24  25  26  27  28  29  30  31  32  33  34  35  36\n",
            "  37  38  39  40  41  42  43  44  45  46  47  48  49  50  51  52  53  54\n",
            "  55  56  57  58  59  60  61  62  63  64  65  66  67  68  69  70  71  72\n",
            "  73  74  75  76  77  78  79  80  81  82  83  84  85  86  87  88  89  90\n",
            "  91  92  93  94  95  96  97  98  99 100]\n",
            "\n",
            "randomly sorted data: [100  71  40  29  78  79  47  87  73  31  70  72  90  42  24  22   8  32\n",
            "  57  63  95  45  66  56  18  46  39  34  88  33  16  89  17  91  30  81\n",
            "   4  38  85  19  25  68  43   2  99  13  82  28  80  96  69  48  59  36\n",
            "  23  64   1  50  67  14  54  92   5   6  37  41  21  83   7  94  60  20\n",
            "  61  58  49  44   9  77  97  27  12  35  52  62  15  53   3  11  86  76\n",
            "  10  93  74  55  75  98  84  26  51  65]\n",
            "\n",
            "Training data: [ 40  44  31  10  42  11  13  16  15  57  61  71 100   4  12  90  55  71\n",
            "  58  11]\n",
            "\n",
            "Copied training data: [ 40  44  31  10  42  11  13  16  15  57  61  71 100   4  12  90  55  71\n",
            "  58  11]\n",
            "\n",
            "Sorted training data: [  4  10  11  11  12  13  15  16  31  40  42  44  55  57  58  61  71  71\n",
            "  90 100]\n",
            "\n",
            "Unique values: [  4  10  11  12  13  15  16  31  40  42  44  55  57  58  61  71  90 100]\n",
            "18\n"
          ]
        }
      ]
    },
    {
      "cell_type": "markdown",
      "source": [
        "# 0.3.3.1. Ejercicio:\n",
        "Crear una función que genere una lista de n enteros aleatorios en el intervalo [a, b]"
      ],
      "metadata": {
        "id": "2Qods1w4skos"
      }
    },
    {
      "cell_type": "code",
      "source": [
        "def get_random_ints_numpy(size: int = 10, lower: int = 0, higher: int = 10, seed: int | None = None) -> np.ndarray:\n",
        "  np.random.seed(seed)\n",
        "  random_vals = np.random.randint(low=lower, high=higher, size=size)\n",
        "  return random_vals\n",
        "\n",
        "random_numpy_ints = get_random_ints_numpy(size=10, lower=2, higher=5, seed=23)\n",
        "print(\"random ints with numpy:\", random_numpy_ints)\n",
        "type(random_numpy_ints)"
      ],
      "metadata": {
        "id": "GLW98bsFsnkV",
        "colab": {
          "base_uri": "https://localhost:8080/"
        },
        "outputId": "cf54dade-97e0-437e-b0c7-77ea5fd3a502"
      },
      "execution_count": null,
      "outputs": [
        {
          "output_type": "stream",
          "name": "stdout",
          "text": [
            "random ints with numpy: [4 2 3 4 2 3 2 4 3 4]\n"
          ]
        },
        {
          "output_type": "execute_result",
          "data": {
            "text/plain": [
              "numpy.ndarray"
            ]
          },
          "metadata": {},
          "execution_count": 199
        }
      ]
    },
    {
      "cell_type": "markdown",
      "source": [
        "# 0.3.3.2. Ejercicio:\n",
        "Crear una histograma con una lista de n números aleatorios con distribución normal, dada una media y una desviación estándar"
      ],
      "metadata": {
        "id": "kkkwd7GNsmul"
      }
    },
    {
      "cell_type": "code",
      "source": [
        "n = 10000\n",
        "mu = 3\n",
        "sigma = 1\n",
        "bins = int(math.sqrt(n))\n",
        "\n",
        "data = np.random.normal(mu, sigma, n)\n",
        "\n",
        "min_data = min(data)\n",
        "max_data = max(data)\n",
        "print(min_data, max_data)\n",
        "\n",
        "(heights, intervals, container) = plt.hist(data, bins=bins)\n",
        "plt.show()"
      ],
      "metadata": {
        "id": "v8aaq3dXstOx",
        "colab": {
          "base_uri": "https://localhost:8080/",
          "height": 502
        },
        "outputId": "05b7e02b-a7a0-40d2-fbad-653ea95699aa"
      },
      "execution_count": null,
      "outputs": [
        {
          "output_type": "stream",
          "name": "stdout",
          "text": [
            "-0.6077802729739838 6.640811751434862\n"
          ]
        },
        {
          "output_type": "display_data",
          "data": {
            "text/plain": [
              "<Figure size 800x550 with 1 Axes>"
            ],
            "image/png": "[encoded data removed]"
          },
          "metadata": {}
        }
      ]
    },
    {
      "cell_type": "markdown",
      "source": [
        "# 0.3.3.3. Ejercicio:\n",
        "Crear una función que genere una lista de n números aleatorios con distribución uniforme"
      ],
      "metadata": {
        "id": "BmPxM1Gws9Hg"
      }
    },
    {
      "cell_type": "code",
      "source": [
        "n = 10000\n",
        "data = np.random.uniform(0, 10, n)\n",
        "\n",
        "min_data = min(data)\n",
        "max_data = max(data)\n",
        "print(min_data, max_data)\n",
        "\n",
        "(heights, intervals, container) = plt.hist(data, bins=bins)\n",
        "plt.show()"
      ],
      "metadata": {
        "id": "jdHt7EIss_I4",
        "colab": {
          "base_uri": "https://localhost:8080/",
          "height": 502
        },
        "outputId": "f8e4b588-d375-482d-d47d-45dd510d8609"
      },
      "execution_count": null,
      "outputs": [
        {
          "output_type": "stream",
          "name": "stdout",
          "text": [
            "0.0004963689496517709 9.999983835736538\n"
          ]
        },
        {
          "output_type": "display_data",
          "data": {
            "text/plain": [
              "<Figure size 800x550 with 1 Axes>"
            ],
            "image/png": "[encoded data removed]"
          },
          "metadata": {}
        }
      ]
    },
    {
      "cell_type": "markdown",
      "source": [
        "# 0.4. Ejercicio compuesto"
      ],
      "metadata": {
        "id": "oUdtOpX0HmlG"
      }
    },
    {
      "cell_type": "markdown",
      "source": [
        "Creemos una función que permita, por medio de un parámetro, definir la distribución que queremos utilizar para un conjunto de datos aleatorio:"
      ],
      "metadata": {
        "id": "-vzbSbfFHpMy"
      }
    },
    {
      "cell_type": "code",
      "source": [
        "import numpy as np\n",
        "import matplotlib.pyplot as plt\n",
        "\n",
        "uniform_params = {\n",
        "    \"low\": 0,\n",
        "    \"high\": 1,\n",
        "    \"n\": 1000\n",
        "}\n",
        "\n",
        "normal_params = {\n",
        "    \"mu\": 0,\n",
        "    \"sigma\": 1,\n",
        "    \"n\": 1000\n",
        "}\n",
        "\n",
        "bins = int(math.sqrt(normal_params[\"n\"]))\n",
        "\n",
        "def random_distribution(params, dist_type: str = \"uniform\") -> np.ndarray: # uniform, normal\n",
        "  match dist_type:\n",
        "    case \"uniform\":\n",
        "      return np.random.uniform(params[\"low\"], params[\"high\"], params[\"n\"])\n",
        "    case \"normal\":\n",
        "      return np.random.normal(params[\"mu\"], params[\"sigma\"], params[\"n\"])\n",
        "    case _:\n",
        "      raise ValueError(\"Invalid distribution type\")\n",
        "\n",
        "uniform_result = random_distribution(uniform_params, \"uniform\")\n",
        "normal_result = random_distribution(normal_params, \"normal\")"
      ],
      "metadata": {
        "id": "VdCeTtU6IjhB"
      },
      "execution_count": null,
      "outputs": []
    },
    {
      "cell_type": "code",
      "source": [
        "# let's create the histogram\n",
        "(heights, intervals, _) = plt.hist(normal_result, bins=bins, density=True)\n",
        "# and plot the distribution using the equation\n",
        "plt.plot(intervals, 1/(normal_params[\"sigma\"] * np.sqrt(2 * np.pi)) * np.exp( - (intervals - normal_params[\"mu\"])**2 / (2 * normal_params[\"sigma\"]**2) ), linewidth=2, color='r')\n",
        "plt.show()"
      ],
      "metadata": {
        "id": "TVZLyBIqxhO0",
        "colab": {
          "base_uri": "https://localhost:8080/",
          "height": 484
        },
        "outputId": "bedd6b3c-98d4-4e61-d2b5-43d7bf1a57c0"
      },
      "execution_count": null,
      "outputs": [
        {
          "output_type": "display_data",
          "data": {
            "text/plain": [
              "<Figure size 800x550 with 1 Axes>"
            ],
            "image/png": "[encoded data removed]"
          },
          "metadata": {}
        }
      ]
    },
    {
      "cell_type": "markdown",
      "source": [
        "Teniendo en cuenta que las celdas comparten memoria y variables, podemos usar otra celda para la distribución uniforme:"
      ],
      "metadata": {
        "id": "U3OdSZuWxRbz"
      }
    },
    {
      "cell_type": "code",
      "source": [
        "# uniform_result\n",
        "plt.figure(1)\n",
        "result = plt.hist(uniform_result, bins=100)\n",
        "\n",
        "# supongamos que quiero mostrar un histograma con los valores de X y los valores de Y\n",
        "values = [1, 2, 3]\n",
        "frequencies = [30, 20, 50]\n",
        "value_ticks = [\"Helado 1\", \"Helado 2\", \"Helado 3\"]\n",
        "\n",
        "plt.figure(2)\n",
        "plt.xticks(values, value_ticks)\n",
        "plt.bar(values, frequencies, color=\"red\")\n",
        "plt.show()"
      ],
      "metadata": {
        "id": "ctAPVvAcxLEI",
        "colab": {
          "base_uri": "https://localhost:8080/",
          "height": 951
        },
        "outputId": "70646a65-7aa6-40a5-ba5a-ab9db41dccaa"
      },
      "execution_count": null,
      "outputs": [
        {
          "output_type": "display_data",
          "data": {
            "text/plain": [
              "<Figure size 800x550 with 1 Axes>"
            ],
            "image/png": "[encoded data removed]"
          },
          "metadata": {}
        },
        {
          "output_type": "display_data",
          "data": {
            "text/plain": [
              "<Figure size 800x550 with 1 Axes>"
            ],
            "image/png": "[encoded data removed]"
          },
          "metadata": {}
        }
      ]
    },
    {
      "cell_type": "markdown",
      "source": [
        "# 0.5. Notas Finales"
      ],
      "metadata": {
        "id": "JygLdMJ75HAJ"
      }
    },
    {
      "cell_type": "markdown",
      "source": [
        "# 0.5.1. Otras distribuciones"
      ],
      "metadata": {
        "id": "x5AmdFdZ5qIg"
      }
    },
    {
      "cell_type": "code",
      "source": [
        "# For other distributions, replace 'normal' or 'uniform' with:\n",
        "# - 'beta'\n",
        "# - 'binomial'\n",
        "# - 'chisquare'\n",
        "# - 'exponential'\n",
        "# - 'gamma'\n",
        "# - 'geometric'\n",
        "# - 'laplace'\n",
        "# - 'logistic'\n",
        "# - 'lognormal'\n",
        "# - 'multinomial'\n",
        "# - 'negative_binomial'\n",
        "# - 'noncentral_chisquare'\n",
        "# - 'noncentral_f'\n",
        "# - 'pareto'\n",
        "# - 'poisson'\n",
        "# - 'power'\n",
        "# - 'rayleigh'\n",
        "# - 'standard_cauchy'\n",
        "# - 'standard_exponential'\n",
        "# - 'standard_gamma'\n",
        "# - 'standard_normal'\n",
        "# - 'standard_t'\n",
        "# - 'triangular'\n",
        "# - 'vonmises'\n",
        "# - 'wald'\n",
        "# - 'weibull'\n",
        "# - 'zipf'\n",
        "\n",
        "# Refer to NumPy documentation for parameters specific to each distribution:\n",
        "# https://numpy.org/doc/stable/reference/random/generator.html"
      ],
      "metadata": {
        "id": "LJrZaJ6SKJkL"
      },
      "execution_count": null,
      "outputs": []
    },
    {
      "cell_type": "markdown",
      "source": [
        "# 0.5.2. Análisis de performance entre numpy arrays y listas nativas de Python"
      ],
      "metadata": {
        "id": "ccRcc6wA5rQU"
      }
    },
    {
      "cell_type": "code",
      "source": [
        "import numpy as np"
      ],
      "metadata": {
        "id": "lRBwFL745t3W"
      },
      "execution_count": null,
      "outputs": []
    },
    {
      "cell_type": "code",
      "source": [
        "size = 1000000"
      ],
      "metadata": {
        "id": "Cgv9VaI3BqG4"
      },
      "execution_count": null,
      "outputs": []
    },
    {
      "cell_type": "code",
      "source": [
        "numpy_array = np.arange(size)\n",
        "print(len(numpy_array))"
      ],
      "metadata": {
        "colab": {
          "base_uri": "https://localhost:8080/"
        },
        "id": "ND-TkvL9BtFu",
        "outputId": "2ae34e9f-8447-4626-eec2-27d3df96927d"
      },
      "execution_count": null,
      "outputs": [
        {
          "output_type": "stream",
          "name": "stdout",
          "text": [
            "1000000\n"
          ]
        }
      ]
    },
    {
      "cell_type": "code",
      "source": [
        "native_list = list(range(size))\n",
        "print(len(native_list))"
      ],
      "metadata": {
        "colab": {
          "base_uri": "https://localhost:8080/"
        },
        "id": "cVtPAdPAB5VC",
        "outputId": "0ffc17e6-3e79-4882-900f-ed2b53edacb4"
      },
      "execution_count": null,
      "outputs": [
        {
          "output_type": "stream",
          "name": "stdout",
          "text": [
            "1000000\n"
          ]
        }
      ]
    },
    {
      "cell_type": "code",
      "source": [
        "%timeit numpy_array + 2"
      ],
      "metadata": {
        "colab": {
          "base_uri": "https://localhost:8080/"
        },
        "id": "KqY5UqorCAfs",
        "outputId": "20d9e1e0-740e-4b66-e1b4-db8a21489784"
      },
      "execution_count": null,
      "outputs": [
        {
          "output_type": "stream",
          "name": "stdout",
          "text": [
            "1.15 ms ± 97.4 µs per loop (mean ± std. dev. of 7 runs, 1000 loops each)\n"
          ]
        }
      ]
    },
    {
      "cell_type": "code",
      "source": [
        "%timeit [ i + 2 for i in native_list]"
      ],
      "metadata": {
        "colab": {
          "base_uri": "https://localhost:8080/"
        },
        "id": "L9pOyy7pCTdB",
        "outputId": "98acb4e1-3fef-44ef-e9cc-7561ae65b0b1"
      },
      "execution_count": null,
      "outputs": [
        {
          "output_type": "stream",
          "name": "stdout",
          "text": [
            "73.7 ms ± 3.17 ms per loop (mean ± std. dev. of 7 runs, 10 loops each)\n"
          ]
        }
      ]
    },
    {
      "cell_type": "code",
      "source": [
        "%timeit numpy_array * 2"
      ],
      "metadata": {
        "colab": {
          "base_uri": "https://localhost:8080/"
        },
        "id": "aniIFpwMCnTD",
        "outputId": "66a7387b-81e2-4a14-ad0f-961b4b9a37bf"
      },
      "execution_count": null,
      "outputs": [
        {
          "output_type": "stream",
          "name": "stdout",
          "text": [
            "1.14 ms ± 124 µs per loop (mean ± std. dev. of 7 runs, 1000 loops each)\n"
          ]
        }
      ]
    },
    {
      "cell_type": "code",
      "source": [
        "%timeit [ i * 2 for i in native_list]"
      ],
      "metadata": {
        "colab": {
          "base_uri": "https://localhost:8080/"
        },
        "id": "q9ofSCU1Cqjp",
        "outputId": "90a3a0dd-67b1-447c-b80e-13b1d60df0ad"
      },
      "execution_count": null,
      "outputs": [
        {
          "output_type": "stream",
          "name": "stdout",
          "text": [
            "71.9 ms ± 1.96 ms per loop (mean ± std. dev. of 7 runs, 10 loops each)\n"
          ]
        }
      ]
    },
    {
      "cell_type": "code",
      "source": [
        "%timeit numpy_array ** 2"
      ],
      "metadata": {
        "colab": {
          "base_uri": "https://localhost:8080/"
        },
        "id": "105_mzCfC0bn",
        "outputId": "8bf8ac4d-c89e-468c-a087-e4b7b39ce0c7"
      },
      "execution_count": null,
      "outputs": [
        {
          "output_type": "stream",
          "name": "stdout",
          "text": [
            "1.15 ms ± 122 µs per loop (mean ± std. dev. of 7 runs, 1000 loops each)\n"
          ]
        }
      ]
    },
    {
      "cell_type": "code",
      "source": [
        "%timeit [ i ** 2 for i in native_list]"
      ],
      "metadata": {
        "colab": {
          "base_uri": "https://localhost:8080/"
        },
        "id": "FVUNLnB3C553",
        "outputId": "cce9d8f2-dc05-4f76-ba65-30127c83f78e"
      },
      "execution_count": null,
      "outputs": [
        {
          "output_type": "stream",
          "name": "stdout",
          "text": [
            "300 ms ± 3.18 ms per loop (mean ± std. dev. of 7 runs, 1 loop each)\n"
          ]
        }
      ]
    },
    {
      "cell_type": "code",
      "source": [
        "# CONCLUSIÓN: A pesar de que a escalas bajas NumPy es más lento que las listas nativas, a grandes escalas Numpy es mucho más rápido!"
      ],
      "metadata": {
        "id": "_eUAN6Zo-xQE"
      },
      "execution_count": null,
      "outputs": []
    }
  ]
}